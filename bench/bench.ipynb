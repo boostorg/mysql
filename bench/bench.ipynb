{
 "cells": [
  {
   "cell_type": "markdown",
   "metadata": {},
   "source": [
    "# Benchmark data processing\n",
    "\n",
    "Contains the code required to plot the figures in the docs.\n",
    "\n",
    "First run the benchmarks with the build-bench Docker container and the CI python scripts, then copy the resulting benchmark-results.txt file out of the Docker container and run this notebook."
   ]
  },
  {
   "cell_type": "code",
   "execution_count": null,
   "metadata": {},
   "outputs": [],
   "source": [
    "! docker cp builder-bench:/root/boost-root/__build/benchmark-results.txt /tmp/benchmark-results.txt"
   ]
  },
  {
   "cell_type": "code",
   "execution_count": null,
   "metadata": {},
   "outputs": [],
   "source": [
    "import pandas as pd\n",
    "from matplotlib import pyplot as plt\n",
    "\n",
    "df = pd.read_csv('benchmarks2.txt', header=None)\n",
    "df = df.set_index(df.index.map(lambda x: x % df.groupby(0).size()[0]))\n",
    "df = df.pivot(columns=[0], values=[1])\n",
    "df.columns = df.columns.get_level_values(0)\n",
    "df.head()"
   ]
  },
  {
   "cell_type": "code",
   "execution_count": null,
   "metadata": {},
   "outputs": [],
   "source": [
    "fig, _ = plt.subplots(1, 3, figsize=(20, 10))\n",
    "df[['one_row_boost', 'one_row_libmysqlclient', 'one_row_libmariadb']].rename(columns={\n",
    "    'one_row_boost': 'Boost.MySQL',\n",
    "    'one_row_libmysqlclient': 'libmysqlclient',\n",
    "    'one_row_libmariadb': 'libmariadb'\n",
    "}).plot.box(ylim=(800, 1100), ax=fig.axes[0], title='Reading one row', ylabel='Time (ms)')\n",
    "df[['many_rows_boost', 'many_rows_libmysqlclient', 'many_rows_libmariadb']].rename(columns={\n",
    "    'many_rows_boost': 'Boost.MySQL',\n",
    "    'many_rows_libmysqlclient': 'libmysqlclient',\n",
    "    'many_rows_libmariadb': 'libmariadb'\n",
    "}).plot.box(ylim=(2200, 2500), ax=fig.axes[1], title='Reading 10k rows')\n",
    "df[['stmt_params_boost', 'stmt_params_libmysqlclient', 'stmt_params_libmariadb']].rename(columns={\n",
    "    'stmt_params_boost': 'Boost.MySQL',\n",
    "    'stmt_params_libmysqlclient': 'libmysqlclient',\n",
    "    'stmt_params_libmariadb': 'libmariadb'\n",
    "}).plot.box(ylim=(10350, 10650), ax=fig.axes[2], title='Statement with params');"
   ]
  }
 ],
 "metadata": {
  "kernelspec": {
   "display_name": "base",
   "language": "python",
   "name": "python3"
  },
  "language_info": {
   "codemirror_mode": {
    "name": "ipython",
    "version": 3
   },
   "file_extension": ".py",
   "mimetype": "text/x-python",
   "name": "python",
   "nbconvert_exporter": "python",
   "pygments_lexer": "ipython3",
   "version": "3.8.3"
  },
  "orig_nbformat": 4
 },
 "nbformat": 4,
 "nbformat_minor": 2
}
